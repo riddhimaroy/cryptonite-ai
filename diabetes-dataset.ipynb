{
 "cells": [
  {
   "cell_type": "code",
   "execution_count": 1,
   "id": "8e6b803d",
   "metadata": {
    "_cell_guid": "b1076dfc-b9ad-4769-8c92-a6c4dae69d19",
    "_uuid": "8f2839f25d086af736a60e9eeb907d3b93b6e0e5",
    "execution": {
     "iopub.execute_input": "2024-05-15T06:10:18.249499Z",
     "iopub.status.busy": "2024-05-15T06:10:18.248879Z",
     "iopub.status.idle": "2024-05-15T06:10:19.416500Z",
     "shell.execute_reply": "2024-05-15T06:10:19.415285Z"
    },
    "papermill": {
     "duration": 1.174178,
     "end_time": "2024-05-15T06:10:19.418781",
     "exception": false,
     "start_time": "2024-05-15T06:10:18.244603",
     "status": "completed"
    },
    "tags": []
   },
   "outputs": [],
   "source": [
    "# This Python 3 environment comes with many helpful analytics libraries installed\n",
    "# It is defined by the kaggle/python Docker image: https://github.com/kaggle/docker-python\n",
    "# For example, here's several helpful packages to load\n",
    "\n",
    "import numpy as np # linear algebra\n",
    "import pandas as pd # data processing, CSV file I/O (e.g. pd.read_csv)\n",
    "\n",
    "# Input data files are available in the read-only \"../input/\" directory\n",
    "# For example, running this (by clicking run or pressing Shift+Enter) will list all files under the input directory\n",
    "\n",
    "import os\n",
    "for dirname, _, filenames in os.walk('/kaggle/input'):\n",
    "    for filename in filenames:\n",
    "        print(os.path.join(dirname, filename))\n",
    "\n",
    "# You can write up to 20GB to the current directory (/kaggle/working/) that gets preserved as output when you create a version using \"Save & Run All\" \n",
    "# You can also write temporary files to /kaggle/temp/, but they won't be saved outside of the current session"
   ]
  },
  {
   "cell_type": "code",
   "execution_count": 2,
   "id": "f169c1b6",
   "metadata": {
    "execution": {
     "iopub.execute_input": "2024-05-15T06:10:19.425562Z",
     "iopub.status.busy": "2024-05-15T06:10:19.425088Z",
     "iopub.status.idle": "2024-05-15T06:10:20.849678Z",
     "shell.execute_reply": "2024-05-15T06:10:20.848781Z"
    },
    "papermill": {
     "duration": 1.430074,
     "end_time": "2024-05-15T06:10:20.851680",
     "exception": false,
     "start_time": "2024-05-15T06:10:19.421606",
     "status": "completed"
    },
    "tags": []
   },
   "outputs": [
    {
     "name": "stdout",
     "output_type": "stream",
     "text": [
      "[[ 0.03807591  0.05068012  0.06169621  0.02187239 -0.0442235  -0.03482076\n",
      "  -0.04340085 -0.00259226  0.01990749 -0.01764613]\n",
      " [-0.00188202 -0.04464164 -0.05147406 -0.02632753 -0.00844872 -0.01916334\n",
      "   0.07441156 -0.03949338 -0.06833155 -0.09220405]\n",
      " [ 0.08529891  0.05068012  0.04445121 -0.00567042 -0.04559945 -0.03419447\n",
      "  -0.03235593 -0.00259226  0.00286131 -0.02593034]\n",
      " [-0.08906294 -0.04464164 -0.01159501 -0.03665608  0.01219057  0.02499059\n",
      "  -0.03603757  0.03430886  0.02268774 -0.00936191]\n",
      " [ 0.00538306 -0.04464164 -0.03638469  0.02187239  0.00393485  0.01559614\n",
      "   0.00814208 -0.00259226 -0.03198764 -0.04664087]]\n",
      "['age', 'sex', 'bmi', 'bp', 's1', 's2', 's3', 's4', 's5', 's6']\n",
      "[151.  75. 141. 206. 135.]\n"
     ]
    }
   ],
   "source": [
    "from sklearn.datasets import load_diabetes\n",
    "from sklearn.model_selection import train_test_split\n",
    "\n",
    "diabetes = load_diabetes()\n",
    "data = diabetes.data\n",
    "target = diabetes.target\n",
    "feature_names = diabetes.feature_names\n",
    "\n",
    "print(data[:5])\n",
    "print (feature_names[::])\n",
    "print(target[:5])"
   ]
  },
  {
   "cell_type": "code",
   "execution_count": 3,
   "id": "ba539afc",
   "metadata": {
    "execution": {
     "iopub.execute_input": "2024-05-15T06:10:20.857644Z",
     "iopub.status.busy": "2024-05-15T06:10:20.857349Z",
     "iopub.status.idle": "2024-05-15T06:10:20.862797Z",
     "shell.execute_reply": "2024-05-15T06:10:20.862180Z"
    },
    "papermill": {
     "duration": 0.010298,
     "end_time": "2024-05-15T06:10:20.864498",
     "exception": false,
     "start_time": "2024-05-15T06:10:20.854200",
     "status": "completed"
    },
    "tags": []
   },
   "outputs": [],
   "source": [
    "X = data\n",
    "y = target\n",
    "X_train, X_test, y_train, y_test = train_test_split(X, y)"
   ]
  },
  {
   "cell_type": "code",
   "execution_count": 4,
   "id": "7fed12c6",
   "metadata": {
    "execution": {
     "iopub.execute_input": "2024-05-15T06:10:20.870779Z",
     "iopub.status.busy": "2024-05-15T06:10:20.870471Z",
     "iopub.status.idle": "2024-05-15T06:10:21.127378Z",
     "shell.execute_reply": "2024-05-15T06:10:21.126293Z"
    },
    "papermill": {
     "duration": 0.262916,
     "end_time": "2024-05-15T06:10:21.129909",
     "exception": false,
     "start_time": "2024-05-15T06:10:20.866993",
     "status": "completed"
    },
    "tags": []
   },
   "outputs": [
    {
     "name": "stdout",
     "output_type": "stream",
     "text": [
      "Mean Squared Error: 3051.6320645905416\n"
     ]
    }
   ],
   "source": [
    "#implementing knn\n",
    "\n",
    "from sklearn.neighbors import KNeighborsRegressor\n",
    "from sklearn.metrics import mean_squared_error\n",
    "\n",
    "knn_regressor = KNeighborsRegressor(n_neighbors=17)\n",
    "\n",
    "knn_regressor.fit(X_train, y_train)\n",
    "y_pred = knn_regressor.predict(X_test)\n",
    "\n",
    "mse = mean_squared_error(y_test, y_pred)\n",
    "print(\"Mean Squared Error:\", mse)"
   ]
  },
  {
   "cell_type": "code",
   "execution_count": 5,
   "id": "db328afd",
   "metadata": {
    "execution": {
     "iopub.execute_input": "2024-05-15T06:10:21.136312Z",
     "iopub.status.busy": "2024-05-15T06:10:21.135976Z",
     "iopub.status.idle": "2024-05-15T06:10:21.149114Z",
     "shell.execute_reply": "2024-05-15T06:10:21.147865Z"
    },
    "papermill": {
     "duration": 0.018509,
     "end_time": "2024-05-15T06:10:21.150915",
     "exception": false,
     "start_time": "2024-05-15T06:10:21.132406",
     "status": "completed"
    },
    "tags": []
   },
   "outputs": [
    {
     "name": "stdout",
     "output_type": "stream",
     "text": [
      "Mean Squared Error: 2903.0967041173944\n"
     ]
    }
   ],
   "source": [
    "#implementing svm\n",
    "\n",
    "from sklearn.svm import SVR\n",
    "\n",
    "svr_regressor = SVR(kernel='linear', C=500.0)\n",
    "\n",
    "svr_regressor.fit(X_train, y_train)\n",
    "y_pred = svr_regressor.predict(X_test)\n",
    "\n",
    "mse = mean_squared_error(y_test, y_pred)\n",
    "print(\"Mean Squared Error:\", mse)"
   ]
  },
  {
   "cell_type": "code",
   "execution_count": 6,
   "id": "cc9bb81a",
   "metadata": {
    "execution": {
     "iopub.execute_input": "2024-05-15T06:10:21.157163Z",
     "iopub.status.busy": "2024-05-15T06:10:21.156853Z",
     "iopub.status.idle": "2024-05-15T06:10:21.357540Z",
     "shell.execute_reply": "2024-05-15T06:10:21.356515Z"
    },
    "papermill": {
     "duration": 0.206091,
     "end_time": "2024-05-15T06:10:21.359552",
     "exception": false,
     "start_time": "2024-05-15T06:10:21.153461",
     "status": "completed"
    },
    "tags": []
   },
   "outputs": [
    {
     "name": "stdout",
     "output_type": "stream",
     "text": [
      "Mean Squared Error: 3332.936375882689\n"
     ]
    }
   ],
   "source": [
    "#implement boosting\n",
    "\n",
    "from sklearn.ensemble import AdaBoostRegressor\n",
    "\n",
    "boosting_regressor = AdaBoostRegressor(n_estimators=55, random_state=42)\n",
    "boosting_regressor.fit(X_train, y_train)\n",
    "boosting_predictions = boosting_regressor.predict(X_test)\n",
    "boosting_mse = mean_squared_error(y_test, boosting_predictions)\n",
    "print(\"Mean Squared Error:\", boosting_mse)"
   ]
  },
  {
   "cell_type": "code",
   "execution_count": 7,
   "id": "b4a37de8",
   "metadata": {
    "execution": {
     "iopub.execute_input": "2024-05-15T06:10:21.366463Z",
     "iopub.status.busy": "2024-05-15T06:10:21.366085Z",
     "iopub.status.idle": "2024-05-15T06:10:21.567735Z",
     "shell.execute_reply": "2024-05-15T06:10:21.566578Z"
    },
    "papermill": {
     "duration": 0.207579,
     "end_time": "2024-05-15T06:10:21.569798",
     "exception": false,
     "start_time": "2024-05-15T06:10:21.362219",
     "status": "completed"
    },
    "tags": []
   },
   "outputs": [
    {
     "name": "stdout",
     "output_type": "stream",
     "text": [
      "Mean Squared Error: 2971.983451447913\n"
     ]
    }
   ],
   "source": [
    "#implement bagging\n",
    "\n",
    "from sklearn.ensemble import RandomForestRegressor\n",
    "\n",
    "bagging_regressor = RandomForestRegressor(n_estimators=89, random_state=42)\n",
    "bagging_regressor.fit(X_train, y_train)\n",
    "bagging_predictions = bagging_regressor.predict(X_test)\n",
    "bagging_mse = mean_squared_error(y_test, bagging_predictions)\n",
    "print(\"Mean Squared Error:\", bagging_mse)"
   ]
  }
 ],
 "metadata": {
  "kaggle": {
   "accelerator": "none",
   "dataSources": [],
   "dockerImageVersionId": 30698,
   "isGpuEnabled": false,
   "isInternetEnabled": false,
   "language": "python",
   "sourceType": "notebook"
  },
  "kernelspec": {
   "display_name": "Python 3",
   "language": "python",
   "name": "python3"
  },
  "language_info": {
   "codemirror_mode": {
    "name": "ipython",
    "version": 3
   },
   "file_extension": ".py",
   "mimetype": "text/x-python",
   "name": "python",
   "nbconvert_exporter": "python",
   "pygments_lexer": "ipython3",
   "version": "3.10.13"
  },
  "papermill": {
   "default_parameters": {},
   "duration": 6.3283,
   "end_time": "2024-05-15T06:10:22.092200",
   "environment_variables": {},
   "exception": null,
   "input_path": "__notebook__.ipynb",
   "output_path": "__notebook__.ipynb",
   "parameters": {},
   "start_time": "2024-05-15T06:10:15.763900",
   "version": "2.5.0"
  }
 },
 "nbformat": 4,
 "nbformat_minor": 5
}
