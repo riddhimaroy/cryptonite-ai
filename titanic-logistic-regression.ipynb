{
 "cells": [
  {
   "cell_type": "code",
   "execution_count": 1,
   "id": "b4e67a0a",
   "metadata": {
    "_cell_guid": "b1076dfc-b9ad-4769-8c92-a6c4dae69d19",
    "_uuid": "8f2839f25d086af736a60e9eeb907d3b93b6e0e5",
    "execution": {
     "iopub.execute_input": "2024-04-05T18:46:09.791849Z",
     "iopub.status.busy": "2024-04-05T18:46:09.791054Z",
     "iopub.status.idle": "2024-04-05T18:46:12.762662Z",
     "shell.execute_reply": "2024-04-05T18:46:12.761130Z"
    },
    "papermill": {
     "duration": 2.985357,
     "end_time": "2024-04-05T18:46:12.765445",
     "exception": false,
     "start_time": "2024-04-05T18:46:09.780088",
     "status": "completed"
    },
    "tags": []
   },
   "outputs": [
    {
     "name": "stdout",
     "output_type": "stream",
     "text": [
      "/kaggle/input/titanic/train.csv\n",
      "/kaggle/input/titanic/test.csv\n",
      "/kaggle/input/titanic/gender_submission.csv\n"
     ]
    }
   ],
   "source": [
    "# This Python 3 environment comes with many helpful analytics libraries installed\n",
    "# It is defined by the kaggle/python Docker image: https://github.com/kaggle/docker-python\n",
    "# For example, here's several helpful packages to load\n",
    "\n",
    "import numpy as np # linear algebra\n",
    "import pandas as pd # data processing, CSV file I/O (e.g. pd.read_csv)\n",
    "import seaborn as sns\n",
    "\n",
    "# Input data files are available in the read-only \"../input/\" directory\n",
    "# For example, running this (by clicking run or pressing Shift+Enter) will list all files under the input directory\n",
    "\n",
    "import os\n",
    "for dirname, _, filenames in os.walk('/kaggle/input'):\n",
    "    for filename in filenames:\n",
    "        print(os.path.join(dirname, filename))\n",
    "\n",
    "# You can write up to 20GB to the current directory (/kaggle/working/) that gets preserved as output when you create a version using \"Save & Run All\" \n",
    "# You can also write temporary files to /kaggle/temp/, but they won't be saved outside of the current session"
   ]
  },
  {
   "cell_type": "code",
   "execution_count": 2,
   "id": "47fd8a2a",
   "metadata": {
    "execution": {
     "iopub.execute_input": "2024-04-05T18:46:12.784563Z",
     "iopub.status.busy": "2024-04-05T18:46:12.783668Z",
     "iopub.status.idle": "2024-04-05T18:46:12.847468Z",
     "shell.execute_reply": "2024-04-05T18:46:12.845881Z"
    },
    "papermill": {
     "duration": 0.07702,
     "end_time": "2024-04-05T18:46:12.850724",
     "exception": false,
     "start_time": "2024-04-05T18:46:12.773704",
     "status": "completed"
    },
    "tags": []
   },
   "outputs": [
    {
     "data": {
      "text/html": [
       "<div>\n",
       "<style scoped>\n",
       "    .dataframe tbody tr th:only-of-type {\n",
       "        vertical-align: middle;\n",
       "    }\n",
       "\n",
       "    .dataframe tbody tr th {\n",
       "        vertical-align: top;\n",
       "    }\n",
       "\n",
       "    .dataframe thead th {\n",
       "        text-align: right;\n",
       "    }\n",
       "</style>\n",
       "<table border=\"1\" class=\"dataframe\">\n",
       "  <thead>\n",
       "    <tr style=\"text-align: right;\">\n",
       "      <th></th>\n",
       "      <th>PassengerId</th>\n",
       "      <th>Survived</th>\n",
       "      <th>Pclass</th>\n",
       "      <th>Name</th>\n",
       "      <th>Sex</th>\n",
       "      <th>Age</th>\n",
       "      <th>SibSp</th>\n",
       "      <th>Parch</th>\n",
       "      <th>Ticket</th>\n",
       "      <th>Fare</th>\n",
       "      <th>Cabin</th>\n",
       "      <th>Embarked</th>\n",
       "    </tr>\n",
       "  </thead>\n",
       "  <tbody>\n",
       "    <tr>\n",
       "      <th>0</th>\n",
       "      <td>1</td>\n",
       "      <td>0</td>\n",
       "      <td>3</td>\n",
       "      <td>Braund, Mr. Owen Harris</td>\n",
       "      <td>male</td>\n",
       "      <td>22.0</td>\n",
       "      <td>1</td>\n",
       "      <td>0</td>\n",
       "      <td>A/5 21171</td>\n",
       "      <td>7.2500</td>\n",
       "      <td>NaN</td>\n",
       "      <td>S</td>\n",
       "    </tr>\n",
       "    <tr>\n",
       "      <th>1</th>\n",
       "      <td>2</td>\n",
       "      <td>1</td>\n",
       "      <td>1</td>\n",
       "      <td>Cumings, Mrs. John Bradley (Florence Briggs Th...</td>\n",
       "      <td>female</td>\n",
       "      <td>38.0</td>\n",
       "      <td>1</td>\n",
       "      <td>0</td>\n",
       "      <td>PC 17599</td>\n",
       "      <td>71.2833</td>\n",
       "      <td>C85</td>\n",
       "      <td>C</td>\n",
       "    </tr>\n",
       "    <tr>\n",
       "      <th>2</th>\n",
       "      <td>3</td>\n",
       "      <td>1</td>\n",
       "      <td>3</td>\n",
       "      <td>Heikkinen, Miss. Laina</td>\n",
       "      <td>female</td>\n",
       "      <td>26.0</td>\n",
       "      <td>0</td>\n",
       "      <td>0</td>\n",
       "      <td>STON/O2. 3101282</td>\n",
       "      <td>7.9250</td>\n",
       "      <td>NaN</td>\n",
       "      <td>S</td>\n",
       "    </tr>\n",
       "    <tr>\n",
       "      <th>3</th>\n",
       "      <td>4</td>\n",
       "      <td>1</td>\n",
       "      <td>1</td>\n",
       "      <td>Futrelle, Mrs. Jacques Heath (Lily May Peel)</td>\n",
       "      <td>female</td>\n",
       "      <td>35.0</td>\n",
       "      <td>1</td>\n",
       "      <td>0</td>\n",
       "      <td>113803</td>\n",
       "      <td>53.1000</td>\n",
       "      <td>C123</td>\n",
       "      <td>S</td>\n",
       "    </tr>\n",
       "    <tr>\n",
       "      <th>4</th>\n",
       "      <td>5</td>\n",
       "      <td>0</td>\n",
       "      <td>3</td>\n",
       "      <td>Allen, Mr. William Henry</td>\n",
       "      <td>male</td>\n",
       "      <td>35.0</td>\n",
       "      <td>0</td>\n",
       "      <td>0</td>\n",
       "      <td>373450</td>\n",
       "      <td>8.0500</td>\n",
       "      <td>NaN</td>\n",
       "      <td>S</td>\n",
       "    </tr>\n",
       "  </tbody>\n",
       "</table>\n",
       "</div>"
      ],
      "text/plain": [
       "   PassengerId  Survived  Pclass  \\\n",
       "0            1         0       3   \n",
       "1            2         1       1   \n",
       "2            3         1       3   \n",
       "3            4         1       1   \n",
       "4            5         0       3   \n",
       "\n",
       "                                                Name     Sex   Age  SibSp  \\\n",
       "0                            Braund, Mr. Owen Harris    male  22.0      1   \n",
       "1  Cumings, Mrs. John Bradley (Florence Briggs Th...  female  38.0      1   \n",
       "2                             Heikkinen, Miss. Laina  female  26.0      0   \n",
       "3       Futrelle, Mrs. Jacques Heath (Lily May Peel)  female  35.0      1   \n",
       "4                           Allen, Mr. William Henry    male  35.0      0   \n",
       "\n",
       "   Parch            Ticket     Fare Cabin Embarked  \n",
       "0      0         A/5 21171   7.2500   NaN        S  \n",
       "1      0          PC 17599  71.2833   C85        C  \n",
       "2      0  STON/O2. 3101282   7.9250   NaN        S  \n",
       "3      0            113803  53.1000  C123        S  \n",
       "4      0            373450   8.0500   NaN        S  "
      ]
     },
     "execution_count": 2,
     "metadata": {},
     "output_type": "execute_result"
    }
   ],
   "source": [
    "df = pd.read_csv(\"/kaggle/input/titanic/train.csv\")\n",
    "testdf = pd.read_csv(\"/kaggle/input/titanic/test.csv\")\n",
    "df.head()"
   ]
  },
  {
   "cell_type": "code",
   "execution_count": 3,
   "id": "a31ce8b4",
   "metadata": {
    "execution": {
     "iopub.execute_input": "2024-04-05T18:46:12.870108Z",
     "iopub.status.busy": "2024-04-05T18:46:12.869640Z",
     "iopub.status.idle": "2024-04-05T18:46:12.911616Z",
     "shell.execute_reply": "2024-04-05T18:46:12.909842Z"
    },
    "papermill": {
     "duration": 0.055578,
     "end_time": "2024-04-05T18:46:12.914853",
     "exception": false,
     "start_time": "2024-04-05T18:46:12.859275",
     "status": "completed"
    },
    "tags": []
   },
   "outputs": [
    {
     "data": {
      "text/html": [
       "<div>\n",
       "<style scoped>\n",
       "    .dataframe tbody tr th:only-of-type {\n",
       "        vertical-align: middle;\n",
       "    }\n",
       "\n",
       "    .dataframe tbody tr th {\n",
       "        vertical-align: top;\n",
       "    }\n",
       "\n",
       "    .dataframe thead th {\n",
       "        text-align: right;\n",
       "    }\n",
       "</style>\n",
       "<table border=\"1\" class=\"dataframe\">\n",
       "  <thead>\n",
       "    <tr style=\"text-align: right;\">\n",
       "      <th></th>\n",
       "      <th>PassengerId</th>\n",
       "      <th>Survived</th>\n",
       "      <th>Pclass</th>\n",
       "      <th>Sex</th>\n",
       "      <th>Age</th>\n",
       "      <th>SibSp</th>\n",
       "      <th>Parch</th>\n",
       "      <th>Fare</th>\n",
       "      <th>Embarked</th>\n",
       "    </tr>\n",
       "  </thead>\n",
       "  <tbody>\n",
       "    <tr>\n",
       "      <th>0</th>\n",
       "      <td>1</td>\n",
       "      <td>0</td>\n",
       "      <td>3</td>\n",
       "      <td>1</td>\n",
       "      <td>22.0</td>\n",
       "      <td>1</td>\n",
       "      <td>0</td>\n",
       "      <td>7.2500</td>\n",
       "      <td>3.0</td>\n",
       "    </tr>\n",
       "    <tr>\n",
       "      <th>1</th>\n",
       "      <td>2</td>\n",
       "      <td>1</td>\n",
       "      <td>1</td>\n",
       "      <td>0</td>\n",
       "      <td>38.0</td>\n",
       "      <td>1</td>\n",
       "      <td>0</td>\n",
       "      <td>71.2833</td>\n",
       "      <td>2.0</td>\n",
       "    </tr>\n",
       "    <tr>\n",
       "      <th>2</th>\n",
       "      <td>3</td>\n",
       "      <td>1</td>\n",
       "      <td>3</td>\n",
       "      <td>0</td>\n",
       "      <td>26.0</td>\n",
       "      <td>0</td>\n",
       "      <td>0</td>\n",
       "      <td>7.9250</td>\n",
       "      <td>3.0</td>\n",
       "    </tr>\n",
       "    <tr>\n",
       "      <th>3</th>\n",
       "      <td>4</td>\n",
       "      <td>1</td>\n",
       "      <td>1</td>\n",
       "      <td>0</td>\n",
       "      <td>35.0</td>\n",
       "      <td>1</td>\n",
       "      <td>0</td>\n",
       "      <td>53.1000</td>\n",
       "      <td>3.0</td>\n",
       "    </tr>\n",
       "    <tr>\n",
       "      <th>4</th>\n",
       "      <td>5</td>\n",
       "      <td>0</td>\n",
       "      <td>3</td>\n",
       "      <td>1</td>\n",
       "      <td>35.0</td>\n",
       "      <td>0</td>\n",
       "      <td>0</td>\n",
       "      <td>8.0500</td>\n",
       "      <td>3.0</td>\n",
       "    </tr>\n",
       "  </tbody>\n",
       "</table>\n",
       "</div>"
      ],
      "text/plain": [
       "   PassengerId  Survived  Pclass  Sex   Age  SibSp  Parch     Fare  Embarked\n",
       "0            1         0       3    1  22.0      1      0   7.2500       3.0\n",
       "1            2         1       1    0  38.0      1      0  71.2833       2.0\n",
       "2            3         1       3    0  26.0      0      0   7.9250       3.0\n",
       "3            4         1       1    0  35.0      1      0  53.1000       3.0\n",
       "4            5         0       3    1  35.0      0      0   8.0500       3.0"
      ]
     },
     "execution_count": 3,
     "metadata": {},
     "output_type": "execute_result"
    }
   ],
   "source": [
    "#cleaning training dataset\n",
    "\n",
    "dfs = df.drop('Name', axis = 1)\n",
    "dfs = dfs.drop ('Ticket', axis =1)\n",
    "dfs = dfs.drop ('Cabin', axis =1)\n",
    "dfs['Sex']= dfs['Sex'].apply(lambda x: 1 if x == 'male' else 0)\n",
    "dfs['Age'] = dfs['Age'].fillna(dfs['Age'].mean())\n",
    "dfs['Age'].isna().sum()\n",
    "dfs.iloc[:, 8] = dfs.iloc[:, 8].replace({'Q':'1', 'C':'2', 'S':'3'})\n",
    "dfs['Embarked'] = pd.to_numeric(dfs['Embarked'], errors='coerce')\n",
    "dfs['Embarked'] = dfs['Embarked'].fillna(dfs['Embarked'].mean())\n",
    "dfs.head()"
   ]
  },
  {
   "cell_type": "code",
   "execution_count": 4,
   "id": "325bda39",
   "metadata": {
    "execution": {
     "iopub.execute_input": "2024-04-05T18:46:12.934844Z",
     "iopub.status.busy": "2024-04-05T18:46:12.933973Z",
     "iopub.status.idle": "2024-04-05T18:46:12.943909Z",
     "shell.execute_reply": "2024-04-05T18:46:12.942666Z"
    },
    "papermill": {
     "duration": 0.022759,
     "end_time": "2024-04-05T18:46:12.946316",
     "exception": false,
     "start_time": "2024-04-05T18:46:12.923557",
     "status": "completed"
    },
    "tags": []
   },
   "outputs": [
    {
     "data": {
      "text/plain": [
       "PassengerId      int64\n",
       "Survived         int64\n",
       "Pclass           int64\n",
       "Sex              int64\n",
       "Age            float64\n",
       "SibSp            int64\n",
       "Parch            int64\n",
       "Fare           float64\n",
       "Embarked       float64\n",
       "dtype: object"
      ]
     },
     "execution_count": 4,
     "metadata": {},
     "output_type": "execute_result"
    }
   ],
   "source": [
    "dfs.dtypes"
   ]
  },
  {
   "cell_type": "code",
   "execution_count": 5,
   "id": "dde58576",
   "metadata": {
    "execution": {
     "iopub.execute_input": "2024-04-05T18:46:12.968014Z",
     "iopub.status.busy": "2024-04-05T18:46:12.966973Z",
     "iopub.status.idle": "2024-04-05T18:46:12.995705Z",
     "shell.execute_reply": "2024-04-05T18:46:12.994413Z"
    },
    "papermill": {
     "duration": 0.042638,
     "end_time": "2024-04-05T18:46:12.998450",
     "exception": false,
     "start_time": "2024-04-05T18:46:12.955812",
     "status": "completed"
    },
    "tags": []
   },
   "outputs": [
    {
     "data": {
      "text/html": [
       "<div>\n",
       "<style scoped>\n",
       "    .dataframe tbody tr th:only-of-type {\n",
       "        vertical-align: middle;\n",
       "    }\n",
       "\n",
       "    .dataframe tbody tr th {\n",
       "        vertical-align: top;\n",
       "    }\n",
       "\n",
       "    .dataframe thead th {\n",
       "        text-align: right;\n",
       "    }\n",
       "</style>\n",
       "<table border=\"1\" class=\"dataframe\">\n",
       "  <thead>\n",
       "    <tr style=\"text-align: right;\">\n",
       "      <th></th>\n",
       "      <th>PassengerId</th>\n",
       "      <th>Pclass</th>\n",
       "      <th>Sex</th>\n",
       "      <th>Age</th>\n",
       "      <th>SibSp</th>\n",
       "      <th>Parch</th>\n",
       "      <th>Fare</th>\n",
       "      <th>Embarked</th>\n",
       "    </tr>\n",
       "  </thead>\n",
       "  <tbody>\n",
       "    <tr>\n",
       "      <th>0</th>\n",
       "      <td>892</td>\n",
       "      <td>3</td>\n",
       "      <td>1</td>\n",
       "      <td>34.5</td>\n",
       "      <td>0</td>\n",
       "      <td>0</td>\n",
       "      <td>7.8292</td>\n",
       "      <td>1</td>\n",
       "    </tr>\n",
       "    <tr>\n",
       "      <th>1</th>\n",
       "      <td>893</td>\n",
       "      <td>3</td>\n",
       "      <td>0</td>\n",
       "      <td>47.0</td>\n",
       "      <td>1</td>\n",
       "      <td>0</td>\n",
       "      <td>7.0000</td>\n",
       "      <td>3</td>\n",
       "    </tr>\n",
       "    <tr>\n",
       "      <th>2</th>\n",
       "      <td>894</td>\n",
       "      <td>2</td>\n",
       "      <td>1</td>\n",
       "      <td>62.0</td>\n",
       "      <td>0</td>\n",
       "      <td>0</td>\n",
       "      <td>9.6875</td>\n",
       "      <td>1</td>\n",
       "    </tr>\n",
       "    <tr>\n",
       "      <th>3</th>\n",
       "      <td>895</td>\n",
       "      <td>3</td>\n",
       "      <td>1</td>\n",
       "      <td>27.0</td>\n",
       "      <td>0</td>\n",
       "      <td>0</td>\n",
       "      <td>8.6625</td>\n",
       "      <td>3</td>\n",
       "    </tr>\n",
       "    <tr>\n",
       "      <th>4</th>\n",
       "      <td>896</td>\n",
       "      <td>3</td>\n",
       "      <td>0</td>\n",
       "      <td>22.0</td>\n",
       "      <td>1</td>\n",
       "      <td>1</td>\n",
       "      <td>12.2875</td>\n",
       "      <td>3</td>\n",
       "    </tr>\n",
       "  </tbody>\n",
       "</table>\n",
       "</div>"
      ],
      "text/plain": [
       "   PassengerId  Pclass  Sex   Age  SibSp  Parch     Fare  Embarked\n",
       "0          892       3    1  34.5      0      0   7.8292         1\n",
       "1          893       3    0  47.0      1      0   7.0000         3\n",
       "2          894       2    1  62.0      0      0   9.6875         1\n",
       "3          895       3    1  27.0      0      0   8.6625         3\n",
       "4          896       3    0  22.0      1      1  12.2875         3"
      ]
     },
     "execution_count": 5,
     "metadata": {},
     "output_type": "execute_result"
    }
   ],
   "source": [
    "testdfs = testdf.drop('Name', axis = 1)\n",
    "testdfs = testdfs.drop ('Ticket', axis =1)\n",
    "testdfs = testdfs.drop ('Cabin', axis =1)\n",
    "testdfs['Sex']= testdfs['Sex'].apply(lambda x: 1 if x == 'male' else 0)\n",
    "testdfs['Age'] = testdfs['Age'].fillna(testdfs['Age'].mean())\n",
    "testdfs['Age'].isna().sum()\n",
    "testdfs['Fare'] = testdfs['Fare'].fillna(testdfs['Fare'].mean())\n",
    "testdfs.iloc[:, 7] = testdfs.iloc[:, 7].replace({'Q':'1', 'C':'2', 'S':'3'})\n",
    "testdfs['Embarked'] = pd.to_numeric(testdfs['Embarked'], errors='coerce')\n",
    "testdfs.head()"
   ]
  },
  {
   "cell_type": "code",
   "execution_count": 6,
   "id": "07566b4f",
   "metadata": {
    "execution": {
     "iopub.execute_input": "2024-04-05T18:46:13.019509Z",
     "iopub.status.busy": "2024-04-05T18:46:13.018947Z",
     "iopub.status.idle": "2024-04-05T18:46:13.040661Z",
     "shell.execute_reply": "2024-04-05T18:46:13.039398Z"
    },
    "papermill": {
     "duration": 0.035356,
     "end_time": "2024-04-05T18:46:13.043307",
     "exception": false,
     "start_time": "2024-04-05T18:46:13.007951",
     "status": "completed"
    },
    "tags": []
   },
   "outputs": [
    {
     "data": {
      "text/html": [
       "<div>\n",
       "<style scoped>\n",
       "    .dataframe tbody tr th:only-of-type {\n",
       "        vertical-align: middle;\n",
       "    }\n",
       "\n",
       "    .dataframe tbody tr th {\n",
       "        vertical-align: top;\n",
       "    }\n",
       "\n",
       "    .dataframe thead th {\n",
       "        text-align: right;\n",
       "    }\n",
       "</style>\n",
       "<table border=\"1\" class=\"dataframe\">\n",
       "  <thead>\n",
       "    <tr style=\"text-align: right;\">\n",
       "      <th></th>\n",
       "      <th>PassengerId</th>\n",
       "      <th>Pclass</th>\n",
       "      <th>Sex</th>\n",
       "      <th>Age</th>\n",
       "      <th>SibSp</th>\n",
       "      <th>Parch</th>\n",
       "      <th>Fare</th>\n",
       "      <th>Embarked</th>\n",
       "    </tr>\n",
       "  </thead>\n",
       "  <tbody>\n",
       "    <tr>\n",
       "      <th>0</th>\n",
       "      <td>892</td>\n",
       "      <td>3</td>\n",
       "      <td>1</td>\n",
       "      <td>34.50000</td>\n",
       "      <td>0</td>\n",
       "      <td>0</td>\n",
       "      <td>7.8292</td>\n",
       "      <td>1</td>\n",
       "    </tr>\n",
       "    <tr>\n",
       "      <th>1</th>\n",
       "      <td>893</td>\n",
       "      <td>3</td>\n",
       "      <td>0</td>\n",
       "      <td>47.00000</td>\n",
       "      <td>1</td>\n",
       "      <td>0</td>\n",
       "      <td>7.0000</td>\n",
       "      <td>3</td>\n",
       "    </tr>\n",
       "    <tr>\n",
       "      <th>2</th>\n",
       "      <td>894</td>\n",
       "      <td>2</td>\n",
       "      <td>1</td>\n",
       "      <td>62.00000</td>\n",
       "      <td>0</td>\n",
       "      <td>0</td>\n",
       "      <td>9.6875</td>\n",
       "      <td>1</td>\n",
       "    </tr>\n",
       "    <tr>\n",
       "      <th>3</th>\n",
       "      <td>895</td>\n",
       "      <td>3</td>\n",
       "      <td>1</td>\n",
       "      <td>27.00000</td>\n",
       "      <td>0</td>\n",
       "      <td>0</td>\n",
       "      <td>8.6625</td>\n",
       "      <td>3</td>\n",
       "    </tr>\n",
       "    <tr>\n",
       "      <th>4</th>\n",
       "      <td>896</td>\n",
       "      <td>3</td>\n",
       "      <td>0</td>\n",
       "      <td>22.00000</td>\n",
       "      <td>1</td>\n",
       "      <td>1</td>\n",
       "      <td>12.2875</td>\n",
       "      <td>3</td>\n",
       "    </tr>\n",
       "    <tr>\n",
       "      <th>...</th>\n",
       "      <td>...</td>\n",
       "      <td>...</td>\n",
       "      <td>...</td>\n",
       "      <td>...</td>\n",
       "      <td>...</td>\n",
       "      <td>...</td>\n",
       "      <td>...</td>\n",
       "      <td>...</td>\n",
       "    </tr>\n",
       "    <tr>\n",
       "      <th>413</th>\n",
       "      <td>1305</td>\n",
       "      <td>3</td>\n",
       "      <td>1</td>\n",
       "      <td>30.27259</td>\n",
       "      <td>0</td>\n",
       "      <td>0</td>\n",
       "      <td>8.0500</td>\n",
       "      <td>3</td>\n",
       "    </tr>\n",
       "    <tr>\n",
       "      <th>414</th>\n",
       "      <td>1306</td>\n",
       "      <td>1</td>\n",
       "      <td>0</td>\n",
       "      <td>39.00000</td>\n",
       "      <td>0</td>\n",
       "      <td>0</td>\n",
       "      <td>108.9000</td>\n",
       "      <td>2</td>\n",
       "    </tr>\n",
       "    <tr>\n",
       "      <th>415</th>\n",
       "      <td>1307</td>\n",
       "      <td>3</td>\n",
       "      <td>1</td>\n",
       "      <td>38.50000</td>\n",
       "      <td>0</td>\n",
       "      <td>0</td>\n",
       "      <td>7.2500</td>\n",
       "      <td>3</td>\n",
       "    </tr>\n",
       "    <tr>\n",
       "      <th>416</th>\n",
       "      <td>1308</td>\n",
       "      <td>3</td>\n",
       "      <td>1</td>\n",
       "      <td>30.27259</td>\n",
       "      <td>0</td>\n",
       "      <td>0</td>\n",
       "      <td>8.0500</td>\n",
       "      <td>3</td>\n",
       "    </tr>\n",
       "    <tr>\n",
       "      <th>417</th>\n",
       "      <td>1309</td>\n",
       "      <td>3</td>\n",
       "      <td>1</td>\n",
       "      <td>30.27259</td>\n",
       "      <td>1</td>\n",
       "      <td>1</td>\n",
       "      <td>22.3583</td>\n",
       "      <td>2</td>\n",
       "    </tr>\n",
       "  </tbody>\n",
       "</table>\n",
       "<p>418 rows × 8 columns</p>\n",
       "</div>"
      ],
      "text/plain": [
       "     PassengerId  Pclass  Sex       Age  SibSp  Parch      Fare  Embarked\n",
       "0            892       3    1  34.50000      0      0    7.8292         1\n",
       "1            893       3    0  47.00000      1      0    7.0000         3\n",
       "2            894       2    1  62.00000      0      0    9.6875         1\n",
       "3            895       3    1  27.00000      0      0    8.6625         3\n",
       "4            896       3    0  22.00000      1      1   12.2875         3\n",
       "..           ...     ...  ...       ...    ...    ...       ...       ...\n",
       "413         1305       3    1  30.27259      0      0    8.0500         3\n",
       "414         1306       1    0  39.00000      0      0  108.9000         2\n",
       "415         1307       3    1  38.50000      0      0    7.2500         3\n",
       "416         1308       3    1  30.27259      0      0    8.0500         3\n",
       "417         1309       3    1  30.27259      1      1   22.3583         2\n",
       "\n",
       "[418 rows x 8 columns]"
      ]
     },
     "execution_count": 6,
     "metadata": {},
     "output_type": "execute_result"
    }
   ],
   "source": [
    "testdfs\n",
    "\n"
   ]
  },
  {
   "cell_type": "code",
   "execution_count": 7,
   "id": "57c50798",
   "metadata": {
    "execution": {
     "iopub.execute_input": "2024-04-05T18:46:13.066513Z",
     "iopub.status.busy": "2024-04-05T18:46:13.064924Z",
     "iopub.status.idle": "2024-04-05T18:46:13.078099Z",
     "shell.execute_reply": "2024-04-05T18:46:13.076762Z"
    },
    "papermill": {
     "duration": 0.027239,
     "end_time": "2024-04-05T18:46:13.080925",
     "exception": false,
     "start_time": "2024-04-05T18:46:13.053686",
     "status": "completed"
    },
    "tags": []
   },
   "outputs": [
    {
     "data": {
      "text/plain": [
       "PassengerId    0\n",
       "Pclass         0\n",
       "Sex            0\n",
       "Age            0\n",
       "SibSp          0\n",
       "Parch          0\n",
       "Fare           0\n",
       "Embarked       0\n",
       "dtype: int64"
      ]
     },
     "execution_count": 7,
     "metadata": {},
     "output_type": "execute_result"
    }
   ],
   "source": [
    "testdfs.isna().sum()"
   ]
  },
  {
   "cell_type": "code",
   "execution_count": 8,
   "id": "36d2b405",
   "metadata": {
    "execution": {
     "iopub.execute_input": "2024-04-05T18:46:13.104431Z",
     "iopub.status.busy": "2024-04-05T18:46:13.103608Z",
     "iopub.status.idle": "2024-04-05T18:46:13.594397Z",
     "shell.execute_reply": "2024-04-05T18:46:13.593213Z"
    },
    "papermill": {
     "duration": 0.506732,
     "end_time": "2024-04-05T18:46:13.597416",
     "exception": false,
     "start_time": "2024-04-05T18:46:13.090684",
     "status": "completed"
    },
    "tags": []
   },
   "outputs": [],
   "source": [
    "#splitting \n",
    "\n",
    "from sklearn.model_selection import train_test_split\n",
    "\n",
    "x=dfs[['PassengerId','Pclass','Sex','Age','SibSp','Parch','Fare','Embarked']]\n",
    "y=dfs['Survived']\n",
    "test=testdfs[['PassengerId','Pclass','Sex','Age','SibSp','Parch','Fare','Embarked']]"
   ]
  },
  {
   "cell_type": "code",
   "execution_count": 9,
   "id": "a525635a",
   "metadata": {
    "execution": {
     "iopub.execute_input": "2024-04-05T18:46:13.619721Z",
     "iopub.status.busy": "2024-04-05T18:46:13.618968Z",
     "iopub.status.idle": "2024-04-05T18:46:13.628251Z",
     "shell.execute_reply": "2024-04-05T18:46:13.626970Z"
    },
    "papermill": {
     "duration": 0.023987,
     "end_time": "2024-04-05T18:46:13.631181",
     "exception": false,
     "start_time": "2024-04-05T18:46:13.607194",
     "status": "completed"
    },
    "tags": []
   },
   "outputs": [],
   "source": [
    "x_train, x_test, y_train, y_test = train_test_split(x,y, test_size=0.2)"
   ]
  },
  {
   "cell_type": "code",
   "execution_count": 10,
   "id": "bd05b928",
   "metadata": {
    "execution": {
     "iopub.execute_input": "2024-04-05T18:46:13.653944Z",
     "iopub.status.busy": "2024-04-05T18:46:13.653069Z",
     "iopub.status.idle": "2024-04-05T18:46:13.673260Z",
     "shell.execute_reply": "2024-04-05T18:46:13.671382Z"
    },
    "papermill": {
     "duration": 0.0353,
     "end_time": "2024-04-05T18:46:13.676695",
     "exception": false,
     "start_time": "2024-04-05T18:46:13.641395",
     "status": "completed"
    },
    "tags": []
   },
   "outputs": [],
   "source": [
    "from sklearn.preprocessing import StandardScaler\n",
    "\n",
    "scaler = StandardScaler()\n",
    "x_trains = scaler.fit_transform(x_train)\n",
    "x_tests =scaler.fit_transform(x_test)\n",
    "xs = scaler.fit_transform(x)"
   ]
  },
  {
   "cell_type": "code",
   "execution_count": 11,
   "id": "8d28f633",
   "metadata": {
    "execution": {
     "iopub.execute_input": "2024-04-05T18:46:13.698502Z",
     "iopub.status.busy": "2024-04-05T18:46:13.697923Z",
     "iopub.status.idle": "2024-04-05T18:46:13.712256Z",
     "shell.execute_reply": "2024-04-05T18:46:13.710752Z"
    },
    "papermill": {
     "duration": 0.029173,
     "end_time": "2024-04-05T18:46:13.715670",
     "exception": false,
     "start_time": "2024-04-05T18:46:13.686497",
     "status": "completed"
    },
    "tags": []
   },
   "outputs": [],
   "source": [
    "traindf = x_train.join(y_train)\n",
    "testdf = x_test.join(y_test)"
   ]
  },
  {
   "cell_type": "code",
   "execution_count": 12,
   "id": "06b6d87e",
   "metadata": {
    "execution": {
     "iopub.execute_input": "2024-04-05T18:46:13.739355Z",
     "iopub.status.busy": "2024-04-05T18:46:13.738094Z",
     "iopub.status.idle": "2024-04-05T18:46:13.759052Z",
     "shell.execute_reply": "2024-04-05T18:46:13.757855Z"
    },
    "papermill": {
     "duration": 0.034556,
     "end_time": "2024-04-05T18:46:13.761408",
     "exception": false,
     "start_time": "2024-04-05T18:46:13.726852",
     "status": "completed"
    },
    "tags": []
   },
   "outputs": [
    {
     "data": {
      "text/html": [
       "<div>\n",
       "<style scoped>\n",
       "    .dataframe tbody tr th:only-of-type {\n",
       "        vertical-align: middle;\n",
       "    }\n",
       "\n",
       "    .dataframe tbody tr th {\n",
       "        vertical-align: top;\n",
       "    }\n",
       "\n",
       "    .dataframe thead th {\n",
       "        text-align: right;\n",
       "    }\n",
       "</style>\n",
       "<table border=\"1\" class=\"dataframe\">\n",
       "  <thead>\n",
       "    <tr style=\"text-align: right;\">\n",
       "      <th></th>\n",
       "      <th>PassengerId</th>\n",
       "      <th>Pclass</th>\n",
       "      <th>Sex</th>\n",
       "      <th>Age</th>\n",
       "      <th>SibSp</th>\n",
       "      <th>Parch</th>\n",
       "      <th>Fare</th>\n",
       "      <th>Embarked</th>\n",
       "      <th>Survived</th>\n",
       "    </tr>\n",
       "  </thead>\n",
       "  <tbody>\n",
       "    <tr>\n",
       "      <th>739</th>\n",
       "      <td>740</td>\n",
       "      <td>3</td>\n",
       "      <td>1</td>\n",
       "      <td>29.699118</td>\n",
       "      <td>0</td>\n",
       "      <td>0</td>\n",
       "      <td>7.8958</td>\n",
       "      <td>3.0</td>\n",
       "      <td>0</td>\n",
       "    </tr>\n",
       "    <tr>\n",
       "      <th>875</th>\n",
       "      <td>876</td>\n",
       "      <td>3</td>\n",
       "      <td>0</td>\n",
       "      <td>15.000000</td>\n",
       "      <td>0</td>\n",
       "      <td>0</td>\n",
       "      <td>7.2250</td>\n",
       "      <td>2.0</td>\n",
       "      <td>1</td>\n",
       "    </tr>\n",
       "    <tr>\n",
       "      <th>824</th>\n",
       "      <td>825</td>\n",
       "      <td>3</td>\n",
       "      <td>1</td>\n",
       "      <td>2.000000</td>\n",
       "      <td>4</td>\n",
       "      <td>1</td>\n",
       "      <td>39.6875</td>\n",
       "      <td>3.0</td>\n",
       "      <td>0</td>\n",
       "    </tr>\n",
       "    <tr>\n",
       "      <th>694</th>\n",
       "      <td>695</td>\n",
       "      <td>1</td>\n",
       "      <td>1</td>\n",
       "      <td>60.000000</td>\n",
       "      <td>0</td>\n",
       "      <td>0</td>\n",
       "      <td>26.5500</td>\n",
       "      <td>3.0</td>\n",
       "      <td>0</td>\n",
       "    </tr>\n",
       "    <tr>\n",
       "      <th>215</th>\n",
       "      <td>216</td>\n",
       "      <td>1</td>\n",
       "      <td>0</td>\n",
       "      <td>31.000000</td>\n",
       "      <td>1</td>\n",
       "      <td>0</td>\n",
       "      <td>113.2750</td>\n",
       "      <td>2.0</td>\n",
       "      <td>1</td>\n",
       "    </tr>\n",
       "    <tr>\n",
       "      <th>...</th>\n",
       "      <td>...</td>\n",
       "      <td>...</td>\n",
       "      <td>...</td>\n",
       "      <td>...</td>\n",
       "      <td>...</td>\n",
       "      <td>...</td>\n",
       "      <td>...</td>\n",
       "      <td>...</td>\n",
       "      <td>...</td>\n",
       "    </tr>\n",
       "    <tr>\n",
       "      <th>172</th>\n",
       "      <td>173</td>\n",
       "      <td>3</td>\n",
       "      <td>0</td>\n",
       "      <td>1.000000</td>\n",
       "      <td>1</td>\n",
       "      <td>1</td>\n",
       "      <td>11.1333</td>\n",
       "      <td>3.0</td>\n",
       "      <td>1</td>\n",
       "    </tr>\n",
       "    <tr>\n",
       "      <th>866</th>\n",
       "      <td>867</td>\n",
       "      <td>2</td>\n",
       "      <td>0</td>\n",
       "      <td>27.000000</td>\n",
       "      <td>1</td>\n",
       "      <td>0</td>\n",
       "      <td>13.8583</td>\n",
       "      <td>2.0</td>\n",
       "      <td>1</td>\n",
       "    </tr>\n",
       "    <tr>\n",
       "      <th>668</th>\n",
       "      <td>669</td>\n",
       "      <td>3</td>\n",
       "      <td>1</td>\n",
       "      <td>43.000000</td>\n",
       "      <td>0</td>\n",
       "      <td>0</td>\n",
       "      <td>8.0500</td>\n",
       "      <td>3.0</td>\n",
       "      <td>0</td>\n",
       "    </tr>\n",
       "    <tr>\n",
       "      <th>334</th>\n",
       "      <td>335</td>\n",
       "      <td>1</td>\n",
       "      <td>0</td>\n",
       "      <td>29.699118</td>\n",
       "      <td>1</td>\n",
       "      <td>0</td>\n",
       "      <td>133.6500</td>\n",
       "      <td>3.0</td>\n",
       "      <td>1</td>\n",
       "    </tr>\n",
       "    <tr>\n",
       "      <th>751</th>\n",
       "      <td>752</td>\n",
       "      <td>3</td>\n",
       "      <td>1</td>\n",
       "      <td>6.000000</td>\n",
       "      <td>0</td>\n",
       "      <td>1</td>\n",
       "      <td>12.4750</td>\n",
       "      <td>3.0</td>\n",
       "      <td>1</td>\n",
       "    </tr>\n",
       "  </tbody>\n",
       "</table>\n",
       "<p>712 rows × 9 columns</p>\n",
       "</div>"
      ],
      "text/plain": [
       "     PassengerId  Pclass  Sex        Age  SibSp  Parch      Fare  Embarked  \\\n",
       "739          740       3    1  29.699118      0      0    7.8958       3.0   \n",
       "875          876       3    0  15.000000      0      0    7.2250       2.0   \n",
       "824          825       3    1   2.000000      4      1   39.6875       3.0   \n",
       "694          695       1    1  60.000000      0      0   26.5500       3.0   \n",
       "215          216       1    0  31.000000      1      0  113.2750       2.0   \n",
       "..           ...     ...  ...        ...    ...    ...       ...       ...   \n",
       "172          173       3    0   1.000000      1      1   11.1333       3.0   \n",
       "866          867       2    0  27.000000      1      0   13.8583       2.0   \n",
       "668          669       3    1  43.000000      0      0    8.0500       3.0   \n",
       "334          335       1    0  29.699118      1      0  133.6500       3.0   \n",
       "751          752       3    1   6.000000      0      1   12.4750       3.0   \n",
       "\n",
       "     Survived  \n",
       "739         0  \n",
       "875         1  \n",
       "824         0  \n",
       "694         0  \n",
       "215         1  \n",
       "..        ...  \n",
       "172         1  \n",
       "866         1  \n",
       "668         0  \n",
       "334         1  \n",
       "751         1  \n",
       "\n",
       "[712 rows x 9 columns]"
      ]
     },
     "execution_count": 12,
     "metadata": {},
     "output_type": "execute_result"
    }
   ],
   "source": [
    "traindf"
   ]
  },
  {
   "cell_type": "code",
   "execution_count": 13,
   "id": "bd0a0ed4",
   "metadata": {
    "execution": {
     "iopub.execute_input": "2024-04-05T18:46:13.784394Z",
     "iopub.status.busy": "2024-04-05T18:46:13.783852Z",
     "iopub.status.idle": "2024-04-05T18:46:13.793620Z",
     "shell.execute_reply": "2024-04-05T18:46:13.791700Z"
    },
    "papermill": {
     "duration": 0.024212,
     "end_time": "2024-04-05T18:46:13.796211",
     "exception": false,
     "start_time": "2024-04-05T18:46:13.771999",
     "status": "completed"
    },
    "tags": []
   },
   "outputs": [
    {
     "data": {
      "text/plain": [
       "'\\nfrom sklearn.linear_model import LogisticRegression\\nlr=LogisticRegression()\\nlr.fit(xs,y)\\npredict=lr.predict(test)'"
      ]
     },
     "execution_count": 13,
     "metadata": {},
     "output_type": "execute_result"
    }
   ],
   "source": [
    "#performing logistic regression\n",
    "'''\n",
    "from sklearn.linear_model import LogisticRegression\n",
    "lr=LogisticRegression()\n",
    "lr.fit(xs,y)\n",
    "predict=lr.predict(test)'''"
   ]
  },
  {
   "cell_type": "code",
   "execution_count": 14,
   "id": "7ae83c5d",
   "metadata": {
    "execution": {
     "iopub.execute_input": "2024-04-05T18:46:13.819151Z",
     "iopub.status.busy": "2024-04-05T18:46:13.818620Z",
     "iopub.status.idle": "2024-04-05T18:46:14.548277Z",
     "shell.execute_reply": "2024-04-05T18:46:14.545425Z"
    },
    "papermill": {
     "duration": 0.746672,
     "end_time": "2024-04-05T18:46:14.553458",
     "exception": false,
     "start_time": "2024-04-05T18:46:13.806786",
     "status": "completed"
    },
    "tags": []
   },
   "outputs": [
    {
     "data": {
      "text/html": [
       "<style>#sk-container-id-1 {color: black;background-color: white;}#sk-container-id-1 pre{padding: 0;}#sk-container-id-1 div.sk-toggleable {background-color: white;}#sk-container-id-1 label.sk-toggleable__label {cursor: pointer;display: block;width: 100%;margin-bottom: 0;padding: 0.3em;box-sizing: border-box;text-align: center;}#sk-container-id-1 label.sk-toggleable__label-arrow:before {content: \"▸\";float: left;margin-right: 0.25em;color: #696969;}#sk-container-id-1 label.sk-toggleable__label-arrow:hover:before {color: black;}#sk-container-id-1 div.sk-estimator:hover label.sk-toggleable__label-arrow:before {color: black;}#sk-container-id-1 div.sk-toggleable__content {max-height: 0;max-width: 0;overflow: hidden;text-align: left;background-color: #f0f8ff;}#sk-container-id-1 div.sk-toggleable__content pre {margin: 0.2em;color: black;border-radius: 0.25em;background-color: #f0f8ff;}#sk-container-id-1 input.sk-toggleable__control:checked~div.sk-toggleable__content {max-height: 200px;max-width: 100%;overflow: auto;}#sk-container-id-1 input.sk-toggleable__control:checked~label.sk-toggleable__label-arrow:before {content: \"▾\";}#sk-container-id-1 div.sk-estimator input.sk-toggleable__control:checked~label.sk-toggleable__label {background-color: #d4ebff;}#sk-container-id-1 div.sk-label input.sk-toggleable__control:checked~label.sk-toggleable__label {background-color: #d4ebff;}#sk-container-id-1 input.sk-hidden--visually {border: 0;clip: rect(1px 1px 1px 1px);clip: rect(1px, 1px, 1px, 1px);height: 1px;margin: -1px;overflow: hidden;padding: 0;position: absolute;width: 1px;}#sk-container-id-1 div.sk-estimator {font-family: monospace;background-color: #f0f8ff;border: 1px dotted black;border-radius: 0.25em;box-sizing: border-box;margin-bottom: 0.5em;}#sk-container-id-1 div.sk-estimator:hover {background-color: #d4ebff;}#sk-container-id-1 div.sk-parallel-item::after {content: \"\";width: 100%;border-bottom: 1px solid gray;flex-grow: 1;}#sk-container-id-1 div.sk-label:hover label.sk-toggleable__label {background-color: #d4ebff;}#sk-container-id-1 div.sk-serial::before {content: \"\";position: absolute;border-left: 1px solid gray;box-sizing: border-box;top: 0;bottom: 0;left: 50%;z-index: 0;}#sk-container-id-1 div.sk-serial {display: flex;flex-direction: column;align-items: center;background-color: white;padding-right: 0.2em;padding-left: 0.2em;position: relative;}#sk-container-id-1 div.sk-item {position: relative;z-index: 1;}#sk-container-id-1 div.sk-parallel {display: flex;align-items: stretch;justify-content: center;background-color: white;position: relative;}#sk-container-id-1 div.sk-item::before, #sk-container-id-1 div.sk-parallel-item::before {content: \"\";position: absolute;border-left: 1px solid gray;box-sizing: border-box;top: 0;bottom: 0;left: 50%;z-index: -1;}#sk-container-id-1 div.sk-parallel-item {display: flex;flex-direction: column;z-index: 1;position: relative;background-color: white;}#sk-container-id-1 div.sk-parallel-item:first-child::after {align-self: flex-end;width: 50%;}#sk-container-id-1 div.sk-parallel-item:last-child::after {align-self: flex-start;width: 50%;}#sk-container-id-1 div.sk-parallel-item:only-child::after {width: 0;}#sk-container-id-1 div.sk-dashed-wrapped {border: 1px dashed gray;margin: 0 0.4em 0.5em 0.4em;box-sizing: border-box;padding-bottom: 0.4em;background-color: white;}#sk-container-id-1 div.sk-label label {font-family: monospace;font-weight: bold;display: inline-block;line-height: 1.2em;}#sk-container-id-1 div.sk-label-container {text-align: center;}#sk-container-id-1 div.sk-container {/* jupyter's `normalize.less` sets `[hidden] { display: none; }` but bootstrap.min.css set `[hidden] { display: none !important; }` so we also need the `!important` here to be able to override the default hidden behavior on the sphinx rendered scikit-learn.org. See: https://github.com/scikit-learn/scikit-learn/issues/21755 */display: inline-block !important;position: relative;}#sk-container-id-1 div.sk-text-repr-fallback {display: none;}</style><div id=\"sk-container-id-1\" class=\"sk-top-container\"><div class=\"sk-text-repr-fallback\"><pre>RandomForestRegressor()</pre><b>In a Jupyter environment, please rerun this cell to show the HTML representation or trust the notebook. <br />On GitHub, the HTML representation is unable to render, please try loading this page with nbviewer.org.</b></div><div class=\"sk-container\" hidden><div class=\"sk-item\"><div class=\"sk-estimator sk-toggleable\"><input class=\"sk-toggleable__control sk-hidden--visually\" id=\"sk-estimator-id-1\" type=\"checkbox\" checked><label for=\"sk-estimator-id-1\" class=\"sk-toggleable__label sk-toggleable__label-arrow\">RandomForestRegressor</label><div class=\"sk-toggleable__content\"><pre>RandomForestRegressor()</pre></div></div></div></div></div>"
      ],
      "text/plain": [
       "RandomForestRegressor()"
      ]
     },
     "execution_count": 14,
     "metadata": {},
     "output_type": "execute_result"
    }
   ],
   "source": [
    "from sklearn.ensemble import RandomForestRegressor\n",
    "\n",
    "forest = RandomForestRegressor()\n",
    "forest.fit(x_train, y_train)"
   ]
  },
  {
   "cell_type": "code",
   "execution_count": 15,
   "id": "998ba04f",
   "metadata": {
    "execution": {
     "iopub.execute_input": "2024-04-05T18:46:14.584098Z",
     "iopub.status.busy": "2024-04-05T18:46:14.583589Z",
     "iopub.status.idle": "2024-04-05T18:46:14.605384Z",
     "shell.execute_reply": "2024-04-05T18:46:14.603922Z"
    },
    "papermill": {
     "duration": 0.041488,
     "end_time": "2024-04-05T18:46:14.608591",
     "exception": false,
     "start_time": "2024-04-05T18:46:14.567103",
     "status": "completed"
    },
    "tags": []
   },
   "outputs": [
    {
     "data": {
      "text/plain": [
       "0.5298229491173416"
      ]
     },
     "execution_count": 15,
     "metadata": {},
     "output_type": "execute_result"
    }
   ],
   "source": [
    "forest.score(x_test, y_test)"
   ]
  },
  {
   "cell_type": "code",
   "execution_count": 16,
   "id": "4a463398",
   "metadata": {
    "execution": {
     "iopub.execute_input": "2024-04-05T18:46:14.634397Z",
     "iopub.status.busy": "2024-04-05T18:46:14.633908Z",
     "iopub.status.idle": "2024-04-05T18:46:14.879874Z",
     "shell.execute_reply": "2024-04-05T18:46:14.878408Z"
    },
    "papermill": {
     "duration": 0.263013,
     "end_time": "2024-04-05T18:46:14.883408",
     "exception": false,
     "start_time": "2024-04-05T18:46:14.620395",
     "status": "completed"
    },
    "tags": []
   },
   "outputs": [],
   "source": [
    "from sklearn.ensemble import RandomForestClassifier\n",
    "\n",
    "model = RandomForestClassifier(n_estimators=80, max_depth=5, random_state=1)\n",
    "model.fit(x_train, y_train)\n",
    "\n",
    "predictions = model.predict(test)"
   ]
  },
  {
   "cell_type": "code",
   "execution_count": 17,
   "id": "13c7b8c9",
   "metadata": {
    "execution": {
     "iopub.execute_input": "2024-04-05T18:46:14.908785Z",
     "iopub.status.busy": "2024-04-05T18:46:14.908274Z",
     "iopub.status.idle": "2024-04-05T18:46:14.928739Z",
     "shell.execute_reply": "2024-04-05T18:46:14.927300Z"
    },
    "papermill": {
     "duration": 0.036103,
     "end_time": "2024-04-05T18:46:14.931827",
     "exception": false,
     "start_time": "2024-04-05T18:46:14.895724",
     "status": "completed"
    },
    "tags": []
   },
   "outputs": [
    {
     "data": {
      "text/plain": [
       "0.8547486033519553"
      ]
     },
     "execution_count": 17,
     "metadata": {},
     "output_type": "execute_result"
    }
   ],
   "source": [
    "model.score(x_test, y_test)"
   ]
  },
  {
   "cell_type": "code",
   "execution_count": 18,
   "id": "7cbf4900",
   "metadata": {
    "execution": {
     "iopub.execute_input": "2024-04-05T18:46:14.956214Z",
     "iopub.status.busy": "2024-04-05T18:46:14.955729Z",
     "iopub.status.idle": "2024-04-05T18:46:14.963573Z",
     "shell.execute_reply": "2024-04-05T18:46:14.962276Z"
    },
    "papermill": {
     "duration": 0.023185,
     "end_time": "2024-04-05T18:46:14.966174",
     "exception": false,
     "start_time": "2024-04-05T18:46:14.942989",
     "status": "completed"
    },
    "tags": []
   },
   "outputs": [
    {
     "data": {
      "text/plain": [
       "'from sklearn.model_selection import GridSearchCV\\n\\nforest = RandomForestRegressor()\\n\\nparam_grid = (\\n    \"n_estimators\": [3, 10, 30],\\n    \"max_features\": [2, 4, 6, 8]\\n)\\n\\ngrid_search = GridSearchCV(forest, param_grid, cv=5,\\n                          scoring=\"neg_mean_squared_error\",\\n                          return_train_score=True)\\n\\ngrid_seach.fit(x_train, y_train)'"
      ]
     },
     "execution_count": 18,
     "metadata": {},
     "output_type": "execute_result"
    }
   ],
   "source": [
    "'''from sklearn.model_selection import GridSearchCV\n",
    "\n",
    "forest = RandomForestRegressor()\n",
    "\n",
    "param_grid = (\n",
    "    \"n_estimators\": [3, 10, 30],\n",
    "    \"max_features\": [2, 4, 6, 8]\n",
    ")\n",
    "\n",
    "grid_search = GridSearchCV(forest, param_grid, cv=5,\n",
    "                          scoring=\"neg_mean_squared_error\",\n",
    "                          return_train_score=True)\n",
    "\n",
    "grid_seach.fit(x_train, y_train)'''"
   ]
  },
  {
   "cell_type": "code",
   "execution_count": 19,
   "id": "f2c1ad62",
   "metadata": {
    "execution": {
     "iopub.execute_input": "2024-04-05T18:46:14.991405Z",
     "iopub.status.busy": "2024-04-05T18:46:14.990913Z",
     "iopub.status.idle": "2024-04-05T18:46:15.010940Z",
     "shell.execute_reply": "2024-04-05T18:46:15.009562Z"
    },
    "papermill": {
     "duration": 0.036066,
     "end_time": "2024-04-05T18:46:15.013731",
     "exception": false,
     "start_time": "2024-04-05T18:46:14.977665",
     "status": "completed"
    },
    "tags": []
   },
   "outputs": [
    {
     "data": {
      "text/plain": [
       "0.5298229491173416"
      ]
     },
     "execution_count": 19,
     "metadata": {},
     "output_type": "execute_result"
    }
   ],
   "source": [
    "forest.score(x_test, y_test)"
   ]
  },
  {
   "cell_type": "code",
   "execution_count": 20,
   "id": "142614fa",
   "metadata": {
    "execution": {
     "iopub.execute_input": "2024-04-05T18:46:15.038955Z",
     "iopub.status.busy": "2024-04-05T18:46:15.038468Z",
     "iopub.status.idle": "2024-04-05T18:46:15.044161Z",
     "shell.execute_reply": "2024-04-05T18:46:15.042886Z"
    },
    "papermill": {
     "duration": 0.021927,
     "end_time": "2024-04-05T18:46:15.047041",
     "exception": false,
     "start_time": "2024-04-05T18:46:15.025114",
     "status": "completed"
    },
    "tags": []
   },
   "outputs": [],
   "source": [
    "#lr.score(x_tests, y_test)"
   ]
  },
  {
   "cell_type": "code",
   "execution_count": 21,
   "id": "6d221e82",
   "metadata": {
    "execution": {
     "iopub.execute_input": "2024-04-05T18:46:15.074137Z",
     "iopub.status.busy": "2024-04-05T18:46:15.073658Z",
     "iopub.status.idle": "2024-04-05T18:46:15.085804Z",
     "shell.execute_reply": "2024-04-05T18:46:15.083827Z"
    },
    "papermill": {
     "duration": 0.029918,
     "end_time": "2024-04-05T18:46:15.089445",
     "exception": false,
     "start_time": "2024-04-05T18:46:15.059527",
     "status": "completed"
    },
    "tags": []
   },
   "outputs": [
    {
     "name": "stdout",
     "output_type": "stream",
     "text": [
      "Your submission was successfully saved!\n"
     ]
    }
   ],
   "source": [
    "output = pd.DataFrame({'PassengerId': test.PassengerId, 'Survived': predictions})\n",
    "output.to_csv('submission.csv', index=False)\n",
    "print(\"Your submission was successfully saved!\")"
   ]
  }
 ],
 "metadata": {
  "kaggle": {
   "accelerator": "none",
   "dataSources": [
    {
     "databundleVersionId": 26502,
     "sourceId": 3136,
     "sourceType": "competition"
    }
   ],
   "dockerImageVersionId": 30673,
   "isGpuEnabled": false,
   "isInternetEnabled": false,
   "language": "python",
   "sourceType": "notebook"
  },
  "kernelspec": {
   "display_name": "Python 3",
   "language": "python",
   "name": "python3"
  },
  "language_info": {
   "codemirror_mode": {
    "name": "ipython",
    "version": 3
   },
   "file_extension": ".py",
   "mimetype": "text/x-python",
   "name": "python",
   "nbconvert_exporter": "python",
   "pygments_lexer": "ipython3",
   "version": "3.10.13"
  },
  "papermill": {
   "default_parameters": {},
   "duration": 9.959914,
   "end_time": "2024-04-05T18:46:16.127904",
   "environment_variables": {},
   "exception": null,
   "input_path": "__notebook__.ipynb",
   "output_path": "__notebook__.ipynb",
   "parameters": {},
   "start_time": "2024-04-05T18:46:06.167990",
   "version": "2.5.0"
  }
 },
 "nbformat": 4,
 "nbformat_minor": 5
}
